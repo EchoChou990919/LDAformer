{
 "cells": [
  {
   "cell_type": "code",
   "execution_count": 1,
   "metadata": {},
   "outputs": [],
   "source": [
    "import numpy as np\n",
    "import matplotlib.pyplot as plt\n",
    "from sklearn.metrics import precision_recall_curve, roc_curve, auc\n",
    "from LDAfomer import *\n",
    "from data_train_test import *"
   ]
  },
  {
   "cell_type": "code",
   "execution_count": 2,
   "metadata": {},
   "outputs": [],
   "source": [
    "def demo(dataset, fold, device):\n",
    "    tt_set = prep_dataloader(dataset=dataset, fold=fold, mode='test', dimension=3, batch_size=32)\n",
    "\n",
    "    model = torch.load('models/demo_' + dataset + '_fold' + str(fold) + '.pth')\n",
    "    labels, preds = test(tt_set, model, device)\n",
    "\n",
    "    fpr, tpr, _ =  roc_curve(labels, preds)\n",
    "    plt.title('ROC Curve')\n",
    "    plt.xlabel('False Positive Rate')\n",
    "    plt.ylabel('True Positive Rate')\n",
    "    plt.plot(fpr, tpr, label='LDAformer (AUC={:.3f})'.format(auc(fpr, tpr)))\n",
    "    plt.show()\n",
    "\n",
    "    precision, recall, _ = precision_recall_curve(labels, preds)\n",
    "    plt.title('PR Curve')\n",
    "    plt.xlabel('Recall')\n",
    "    plt.ylabel('Precision')\n",
    "    plt.plot(recall, precision, label='LDAformer (AUC={:.3f})'.format(auc(recall, precision)))\n",
    "    plt.show()\n"
   ]
  },
  {
   "cell_type": "code",
   "execution_count": null,
   "metadata": {},
   "outputs": [],
   "source": [
    "dataset = 'dataset1'\n",
    "fold = 0\n",
    "gpu = torch.device(\"cuda:1\" if torch.cuda.is_available() else \"cpu\")\n",
    "demo(dataset, fold, gpu)"
   ]
  }
 ],
 "metadata": {
  "interpreter": {
   "hash": "40d3a090f54c6569ab1632332b64b2c03c39dcf918b08424e98f38b5ae0af88f"
  },
  "kernelspec": {
   "display_name": "Python 3.8.8 ('base')",
   "language": "python",
   "name": "python3"
  },
  "language_info": {
   "codemirror_mode": {
    "name": "ipython",
    "version": 3
   },
   "file_extension": ".py",
   "mimetype": "text/x-python",
   "name": "python",
   "nbconvert_exporter": "python",
   "pygments_lexer": "ipython3",
   "version": "3.8.8"
  },
  "orig_nbformat": 4
 },
 "nbformat": 4,
 "nbformat_minor": 2
}
